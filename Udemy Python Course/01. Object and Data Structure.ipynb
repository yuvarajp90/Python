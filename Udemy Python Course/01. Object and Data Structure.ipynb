{
 "cells": [
  {
   "cell_type": "markdown",
   "id": "f46d626b",
   "metadata": {},
   "source": [
    "Basic Numbers - Addition/Subraction/Multiplication/Division"
   ]
  },
  {
   "cell_type": "code",
   "execution_count": 12,
   "id": "3d5d1060",
   "metadata": {},
   "outputs": [
    {
     "data": {
      "text/plain": [
       "2"
      ]
     },
     "execution_count": 12,
     "metadata": {},
     "output_type": "execute_result"
    }
   ],
   "source": [
    "1+1"
   ]
  },
  {
   "cell_type": "code",
   "execution_count": 13,
   "id": "d407c444",
   "metadata": {},
   "outputs": [
    {
     "data": {
      "text/plain": [
       "0"
      ]
     },
     "execution_count": 13,
     "metadata": {},
     "output_type": "execute_result"
    }
   ],
   "source": [
    "1-1"
   ]
  },
  {
   "cell_type": "code",
   "execution_count": 14,
   "id": "722ad872",
   "metadata": {},
   "outputs": [
    {
     "data": {
      "text/plain": [
       "10"
      ]
     },
     "execution_count": 14,
     "metadata": {},
     "output_type": "execute_result"
    }
   ],
   "source": [
    "2*5"
   ]
  },
  {
   "cell_type": "code",
   "execution_count": 4,
   "id": "925bcae2",
   "metadata": {},
   "outputs": [
    {
     "data": {
      "text/plain": [
       "2.0"
      ]
     },
     "execution_count": 4,
     "metadata": {},
     "output_type": "execute_result"
    }
   ],
   "source": [
    "10/5"
   ]
  },
  {
   "cell_type": "markdown",
   "id": "f2a37cbb",
   "metadata": {},
   "source": [
    "Floor/Modulus"
   ]
  },
  {
   "cell_type": "code",
   "execution_count": 15,
   "id": "31c9d0fe",
   "metadata": {},
   "outputs": [
    {
     "data": {
      "text/plain": [
       "3"
      ]
     },
     "execution_count": 15,
     "metadata": {},
     "output_type": "execute_result"
    }
   ],
   "source": [
    "10//3"
   ]
  },
  {
   "cell_type": "code",
   "execution_count": 16,
   "id": "21efb56b",
   "metadata": {},
   "outputs": [
    {
     "data": {
      "text/plain": [
       "1"
      ]
     },
     "execution_count": 16,
     "metadata": {},
     "output_type": "execute_result"
    }
   ],
   "source": [
    "10%3"
   ]
  },
  {
   "cell_type": "markdown",
   "id": "e7cd7eba",
   "metadata": {},
   "source": [
    "Variable assignment"
   ]
  },
  {
   "cell_type": "code",
   "execution_count": 8,
   "id": "cc0f3c3f",
   "metadata": {},
   "outputs": [],
   "source": [
    "a=5"
   ]
  },
  {
   "cell_type": "code",
   "execution_count": 10,
   "id": "63caf5df",
   "metadata": {},
   "outputs": [
    {
     "data": {
      "text/plain": [
       "10"
      ]
     },
     "execution_count": 10,
     "metadata": {},
     "output_type": "execute_result"
    }
   ],
   "source": [
    "a+a"
   ]
  },
  {
   "cell_type": "code",
   "execution_count": 17,
   "id": "76db616a",
   "metadata": {},
   "outputs": [
    {
     "data": {
      "text/plain": [
       "True"
      ]
     },
     "execution_count": 17,
     "metadata": {},
     "output_type": "execute_result"
    }
   ],
   "source": [
    "a==5"
   ]
  },
  {
   "cell_type": "code",
   "execution_count": 19,
   "id": "4729dec6",
   "metadata": {},
   "outputs": [
    {
     "data": {
      "text/plain": [
       "5.551115123125783e-17"
      ]
     },
     "execution_count": 19,
     "metadata": {},
     "output_type": "execute_result"
    }
   ],
   "source": [
    "0.1+0.2-0.3 "
   ]
  },
  {
   "cell_type": "code",
   "execution_count": 20,
   "id": "df4d2b5f",
   "metadata": {},
   "outputs": [],
   "source": [
    "a+=10"
   ]
  },
  {
   "cell_type": "code",
   "execution_count": 22,
   "id": "a488b873",
   "metadata": {},
   "outputs": [
    {
     "data": {
      "text/plain": [
       "15"
      ]
     },
     "execution_count": 22,
     "metadata": {},
     "output_type": "execute_result"
    }
   ],
   "source": [
    "a"
   ]
  },
  {
   "cell_type": "code",
   "execution_count": 28,
   "id": "aaf9da5e",
   "metadata": {},
   "outputs": [],
   "source": [
    "my_income = 100\n",
    "tax_rate = 0.1\n",
    "my_taxes = my_income * tax_rate"
   ]
  },
  {
   "cell_type": "code",
   "execution_count": 29,
   "id": "4f62fc91",
   "metadata": {},
   "outputs": [
    {
     "data": {
      "text/plain": [
       "10.0"
      ]
     },
     "execution_count": 29,
     "metadata": {},
     "output_type": "execute_result"
    }
   ],
   "source": [
    "my_taxes"
   ]
  },
  {
   "cell_type": "code",
   "execution_count": 30,
   "id": "e8a1f281",
   "metadata": {},
   "outputs": [
    {
     "data": {
      "text/plain": [
       "float"
      ]
     },
     "execution_count": 30,
     "metadata": {},
     "output_type": "execute_result"
    }
   ],
   "source": [
    "type(my_taxes)"
   ]
  },
  {
   "cell_type": "markdown",
   "id": "ded2350c",
   "metadata": {},
   "source": [
    "Strings"
   ]
  },
  {
   "cell_type": "code",
   "execution_count": 32,
   "id": "2211799e",
   "metadata": {},
   "outputs": [
    {
     "data": {
      "text/plain": [
       "'yuvaraj'"
      ]
     },
     "execution_count": 32,
     "metadata": {},
     "output_type": "execute_result"
    }
   ],
   "source": [
    "\"yuvaraj\""
   ]
  },
  {
   "cell_type": "code",
   "execution_count": 5,
   "id": "5361a46f",
   "metadata": {},
   "outputs": [],
   "source": [
    "name=\"yuvaraj pazhamalai\""
   ]
  },
  {
   "cell_type": "code",
   "execution_count": 6,
   "id": "bb1192ef",
   "metadata": {},
   "outputs": [
    {
     "name": "stdout",
     "output_type": "stream",
     "text": [
      "yuvraj pazhamalai\n"
     ]
    }
   ],
   "source": [
    "print(name)"
   ]
  },
  {
   "cell_type": "markdown",
   "id": "238135e5",
   "metadata": {},
   "source": [
    "\\n between string will insert a new line"
   ]
  },
  {
   "cell_type": "code",
   "execution_count": 7,
   "id": "5ce01038",
   "metadata": {},
   "outputs": [
    {
     "name": "stdout",
     "output_type": "stream",
     "text": [
      "yuvaraj \n",
      " pazhamalai\n"
     ]
    }
   ],
   "source": [
    "print (\"yuvaraj \\n pazhamalai\")"
   ]
  },
  {
   "cell_type": "markdown",
   "id": "b74536e8",
   "metadata": {},
   "source": [
    "\\t will insert a table between two strings"
   ]
  },
  {
   "cell_type": "code",
   "execution_count": 8,
   "id": "8a7d8b04",
   "metadata": {},
   "outputs": [
    {
     "name": "stdout",
     "output_type": "stream",
     "text": [
      "yuvaraj \t pazhamalai\n"
     ]
    }
   ],
   "source": [
    "print (\"yuvaraj \\t pazhamalai\")"
   ]
  },
  {
   "cell_type": "code",
   "execution_count": 9,
   "id": "df6b36b7",
   "metadata": {},
   "outputs": [
    {
     "name": "stdout",
     "output_type": "stream",
     "text": [
      "my name is \t yuvraj pazhamalai\n"
     ]
    }
   ],
   "source": [
    "print(\"my name is \\t\",name)"
   ]
  },
  {
   "cell_type": "code",
   "execution_count": 10,
   "id": "d577e074",
   "metadata": {},
   "outputs": [
    {
     "name": "stdout",
     "output_type": "stream",
     "text": [
      "my name is \n",
      " yuvraj pazhamalai\n"
     ]
    }
   ],
   "source": [
    "print(\"my name is \\n\",name)"
   ]
  },
  {
   "cell_type": "markdown",
   "id": "282cbfa0",
   "metadata": {},
   "source": [
    "length"
   ]
  },
  {
   "cell_type": "code",
   "execution_count": 11,
   "id": "7441d1cf",
   "metadata": {},
   "outputs": [
    {
     "data": {
      "text/plain": [
       "17"
      ]
     },
     "execution_count": 11,
     "metadata": {},
     "output_type": "execute_result"
    }
   ],
   "source": [
    "len(name)"
   ]
  },
  {
   "cell_type": "markdown",
   "id": "b9c59bd9",
   "metadata": {},
   "source": [
    "Indexing"
   ]
  },
  {
   "cell_type": "code",
   "execution_count": 12,
   "id": "16fc8731",
   "metadata": {},
   "outputs": [
    {
     "data": {
      "text/plain": [
       "str"
      ]
     },
     "execution_count": 12,
     "metadata": {},
     "output_type": "execute_result"
    }
   ],
   "source": [
    "type(name)"
   ]
  },
  {
   "cell_type": "code",
   "execution_count": 13,
   "id": "befe4154",
   "metadata": {},
   "outputs": [
    {
     "data": {
      "text/plain": [
       "'y'"
      ]
     },
     "execution_count": 13,
     "metadata": {},
     "output_type": "execute_result"
    }
   ],
   "source": [
    "name[0]"
   ]
  },
  {
   "cell_type": "markdown",
   "id": "d350a845",
   "metadata": {},
   "source": [
    ": to perform slicing which grabs everything up to a designated point"
   ]
  },
  {
   "cell_type": "code",
   "execution_count": 14,
   "id": "4d700565",
   "metadata": {},
   "outputs": [
    {
     "data": {
      "text/plain": [
       "'uvraj pazhamalai'"
      ]
     },
     "execution_count": 14,
     "metadata": {},
     "output_type": "execute_result"
    }
   ],
   "source": [
    "name[1:]"
   ]
  },
  {
   "cell_type": "code",
   "execution_count": 15,
   "id": "d8dce6bd",
   "metadata": {},
   "outputs": [
    {
     "data": {
      "text/plain": [
       "'hamalai'"
      ]
     },
     "execution_count": 15,
     "metadata": {},
     "output_type": "execute_result"
    }
   ],
   "source": [
    "name[10:]"
   ]
  },
  {
   "cell_type": "code",
   "execution_count": 16,
   "id": "2b70c834",
   "metadata": {},
   "outputs": [
    {
     "data": {
      "text/plain": [
       "'yuvraj paz'"
      ]
     },
     "execution_count": 16,
     "metadata": {},
     "output_type": "execute_result"
    }
   ],
   "source": [
    "name[:10]"
   ]
  },
  {
   "cell_type": "code",
   "execution_count": 17,
   "id": "cde45ef5",
   "metadata": {},
   "outputs": [
    {
     "data": {
      "text/plain": [
       "'yuvraj pazhamala'"
      ]
     },
     "execution_count": 17,
     "metadata": {},
     "output_type": "execute_result"
    }
   ],
   "source": [
    "name[:-1]"
   ]
  },
  {
   "cell_type": "code",
   "execution_count": 18,
   "id": "bafcdfab",
   "metadata": {},
   "outputs": [
    {
     "data": {
      "text/plain": [
       "'i'"
      ]
     },
     "execution_count": 18,
     "metadata": {},
     "output_type": "execute_result"
    }
   ],
   "source": [
    "name[-1]"
   ]
  },
  {
   "cell_type": "markdown",
   "id": "87ecf8f8",
   "metadata": {},
   "source": [
    "Strings are immutable in python i.e. once assigned cannot be changed"
   ]
  },
  {
   "cell_type": "code",
   "execution_count": 19,
   "id": "87e27ca0",
   "metadata": {},
   "outputs": [
    {
     "ename": "TypeError",
     "evalue": "'str' object does not support item assignment",
     "output_type": "error",
     "traceback": [
      "\u001b[1;31m---------------------------------------------------------------------------\u001b[0m",
      "\u001b[1;31mTypeError\u001b[0m                                 Traceback (most recent call last)",
      "Cell \u001b[1;32mIn[19], line 1\u001b[0m\n\u001b[1;32m----> 1\u001b[0m name[\u001b[38;5;241m-\u001b[39m\u001b[38;5;241m1\u001b[39m]\u001b[38;5;241m=\u001b[39m\u001b[38;5;124m\"\u001b[39m\u001b[38;5;124ma\u001b[39m\u001b[38;5;124m\"\u001b[39m\n",
      "\u001b[1;31mTypeError\u001b[0m: 'str' object does not support item assignment"
     ]
    }
   ],
   "source": [
    "name[-1]=\"a\""
   ]
  },
  {
   "cell_type": "code",
   "execution_count": 20,
   "id": "73338110",
   "metadata": {},
   "outputs": [
    {
     "data": {
      "text/plain": [
       "True"
      ]
     },
     "execution_count": 20,
     "metadata": {},
     "output_type": "execute_result"
    }
   ],
   "source": [
    "name[-1]==\"i\""
   ]
  },
  {
   "cell_type": "code",
   "execution_count": 21,
   "id": "0e19c3fd",
   "metadata": {},
   "outputs": [
    {
     "data": {
      "text/plain": [
       "\"yuvraj pazhamalai that's my name\""
      ]
     },
     "execution_count": 21,
     "metadata": {},
     "output_type": "execute_result"
    }
   ],
   "source": [
    "name + \" that's my name\""
   ]
  },
  {
   "cell_type": "code",
   "execution_count": 22,
   "id": "64135192",
   "metadata": {},
   "outputs": [
    {
     "data": {
      "text/plain": [
       "'My name is yuvraj pazhamalai'"
      ]
     },
     "execution_count": 22,
     "metadata": {},
     "output_type": "execute_result"
    }
   ],
   "source": [
    "\"My name is \" + name"
   ]
  },
  {
   "cell_type": "markdown",
   "id": "4528edde",
   "metadata": {},
   "source": [
    "Objects in Python have in-built functions - Both Numbers and Strings + other object types"
   ]
  },
  {
   "cell_type": "code",
   "execution_count": 23,
   "id": "10520628",
   "metadata": {},
   "outputs": [
    {
     "data": {
      "text/plain": [
       "'Yuvraj pazhamalai'"
      ]
     },
     "execution_count": 23,
     "metadata": {},
     "output_type": "execute_result"
    }
   ],
   "source": [
    "name.capitalize()"
   ]
  },
  {
   "cell_type": "code",
   "execution_count": 24,
   "id": "3e9958ac",
   "metadata": {},
   "outputs": [
    {
     "data": {
      "text/plain": [
       "'YUVRAJ PAZHAMALAI'"
      ]
     },
     "execution_count": 24,
     "metadata": {},
     "output_type": "execute_result"
    }
   ],
   "source": [
    "name.upper()"
   ]
  },
  {
   "cell_type": "code",
   "execution_count": 25,
   "id": "7a608815",
   "metadata": {},
   "outputs": [
    {
     "data": {
      "text/plain": [
       "'Yuvraj Pazhamalai'"
      ]
     },
     "execution_count": 25,
     "metadata": {},
     "output_type": "execute_result"
    }
   ],
   "source": [
    "name.title()"
   ]
  },
  {
   "cell_type": "code",
   "execution_count": 30,
   "id": "e78b26ed",
   "metadata": {},
   "outputs": [
    {
     "data": {
      "text/plain": [
       "['yuvraj', 'pazhamalai']"
      ]
     },
     "execution_count": 30,
     "metadata": {},
     "output_type": "execute_result"
    }
   ],
   "source": [
    "name.split()"
   ]
  },
  {
   "cell_type": "code",
   "execution_count": 31,
   "id": "9e6cb13e",
   "metadata": {},
   "outputs": [
    {
     "data": {
      "text/plain": [
       "['yuvr', 'j p', 'zh', 'm', 'l', 'i']"
      ]
     },
     "execution_count": 31,
     "metadata": {},
     "output_type": "execute_result"
    }
   ],
   "source": [
    "name.split(\"a\")"
   ]
  },
  {
   "cell_type": "code",
   "execution_count": 32,
   "id": "89c67a17",
   "metadata": {},
   "outputs": [
    {
     "name": "stdout",
     "output_type": "stream",
     "text": [
      "Hello World\n"
     ]
    }
   ],
   "source": [
    "print(\"Hello %s\" %('World'))"
   ]
  },
  {
   "cell_type": "code",
   "execution_count": 33,
   "id": "3fa31f6c",
   "metadata": {},
   "outputs": [
    {
     "data": {
      "text/plain": [
       "'ink'"
      ]
     },
     "execution_count": 33,
     "metadata": {},
     "output_type": "execute_result"
    }
   ],
   "source": [
    "'tinker'[1:4]"
   ]
  },
  {
   "cell_type": "code",
   "execution_count": 34,
   "id": "4717969c",
   "metadata": {},
   "outputs": [
    {
     "data": {
      "text/plain": [
       "'yuvraj pazhamalai'"
      ]
     },
     "execution_count": 34,
     "metadata": {},
     "output_type": "execute_result"
    }
   ],
   "source": [
    "name"
   ]
  },
  {
   "cell_type": "code",
   "execution_count": 36,
   "id": "477a3f23",
   "metadata": {},
   "outputs": [
    {
     "ename": "AttributeError",
     "evalue": "'str' object has no attribute 'reverse'",
     "output_type": "error",
     "traceback": [
      "\u001b[1;31m---------------------------------------------------------------------------\u001b[0m",
      "\u001b[1;31mAttributeError\u001b[0m                            Traceback (most recent call last)",
      "Cell \u001b[1;32mIn[36], line 1\u001b[0m\n\u001b[1;32m----> 1\u001b[0m \u001b[43mname\u001b[49m\u001b[38;5;241;43m.\u001b[39;49m\u001b[43mreverse\u001b[49m()\n",
      "\u001b[1;31mAttributeError\u001b[0m: 'str' object has no attribute 'reverse'"
     ]
    }
   ],
   "source": [
    "name.reverse()"
   ]
  },
  {
   "cell_type": "markdown",
   "id": "82cc2e46",
   "metadata": {},
   "source": [
    "there is no in-built reverse function to check if a string is palindrome"
   ]
  },
  {
   "cell_type": "code",
   "execution_count": 37,
   "id": "be340c1f",
   "metadata": {},
   "outputs": [
    {
     "data": {
      "text/plain": [
       "'i'"
      ]
     },
     "execution_count": 37,
     "metadata": {},
     "output_type": "execute_result"
    }
   ],
   "source": [
    "name[-1]"
   ]
  },
  {
   "cell_type": "code",
   "execution_count": 38,
   "id": "e1001bf0",
   "metadata": {},
   "outputs": [
    {
     "data": {
      "text/plain": [
       "'yuvraj pazhamala'"
      ]
     },
     "execution_count": 38,
     "metadata": {},
     "output_type": "execute_result"
    }
   ],
   "source": [
    "name[:-1]"
   ]
  },
  {
   "cell_type": "code",
   "execution_count": 51,
   "id": "a695ef6e",
   "metadata": {},
   "outputs": [
    {
     "data": {
      "text/plain": [
       "'ialamahzap jarvuy'"
      ]
     },
     "execution_count": 51,
     "metadata": {},
     "output_type": "execute_result"
    }
   ],
   "source": [
    "name[::-1]"
   ]
  },
  {
   "cell_type": "code",
   "execution_count": 52,
   "id": "98ea06f2",
   "metadata": {},
   "outputs": [
    {
     "data": {
      "text/plain": [
       "'yuvraj pazhamalai'"
      ]
     },
     "execution_count": 52,
     "metadata": {},
     "output_type": "execute_result"
    }
   ],
   "source": [
    "name[::1]"
   ]
  },
  {
   "cell_type": "code",
   "execution_count": 53,
   "id": "0164dee5",
   "metadata": {},
   "outputs": [],
   "source": [
    "name_reverse=name[::-1]"
   ]
  },
  {
   "cell_type": "code",
   "execution_count": 54,
   "id": "4e33e343",
   "metadata": {},
   "outputs": [
    {
     "name": "stdout",
     "output_type": "stream",
     "text": [
      "ialamahzap jarvuy\n"
     ]
    }
   ],
   "source": [
    "print(name_reverse)"
   ]
  },
  {
   "cell_type": "code",
   "execution_count": 56,
   "id": "4d2f0fd0",
   "metadata": {},
   "outputs": [
    {
     "data": {
      "text/plain": [
       "False"
      ]
     },
     "execution_count": 56,
     "metadata": {},
     "output_type": "execute_result"
    }
   ],
   "source": [
    "name==name_reverse"
   ]
  },
  {
   "cell_type": "code",
   "execution_count": 58,
   "id": "0f352cf5",
   "metadata": {},
   "outputs": [
    {
     "data": {
      "text/plain": [
       "True"
      ]
     },
     "execution_count": 58,
     "metadata": {},
     "output_type": "execute_result"
    }
   ],
   "source": [
    "\"nitin\"==\"nitin\"[::-1]"
   ]
  },
  {
   "cell_type": "markdown",
   "id": "210fa739",
   "metadata": {},
   "source": [
    "print formatting"
   ]
  },
  {
   "cell_type": "code",
   "execution_count": 62,
   "id": "4a6f6e99",
   "metadata": {},
   "outputs": [
    {
     "name": "stdout",
     "output_type": "stream",
     "text": [
      "hi! how are you?\n"
     ]
    }
   ],
   "source": [
    "print(\"hi! how are %s?\" %\"you\") #%s will inject strings "
   ]
  },
  {
   "cell_type": "markdown",
   "id": "fd000add",
   "metadata": {},
   "source": [
    "%s will insert strings w/o \"quotes\" while %r will insert \"quotes\""
   ]
  },
  {
   "cell_type": "code",
   "execution_count": 75,
   "id": "4a0c3b6f",
   "metadata": {},
   "outputs": [
    {
     "name": "stdout",
     "output_type": "stream",
     "text": [
      "hi! how are 'you'?\n"
     ]
    }
   ],
   "source": [
    "print(\"hi! how are %r?\" %\"you\") #%s will inject strings "
   ]
  },
  {
   "cell_type": "code",
   "execution_count": 66,
   "id": "6cd58e74",
   "metadata": {},
   "outputs": [
    {
     "name": "stdout",
     "output_type": "stream",
     "text": [
      "my first name is yuvaraj and my last name is pazhamalai\n"
     ]
    }
   ],
   "source": [
    "x=\"yuvaraj\"\n",
    "y=\"pazhamalai\"\n",
    "\n",
    "print(\"my first name is %s and my last name is %s\" %(x,y))"
   ]
  },
  {
   "cell_type": "code",
   "execution_count": 70,
   "id": "0420d073",
   "metadata": {},
   "outputs": [
    {
     "name": "stdout",
     "output_type": "stream",
     "text": [
      "my first name is yuvaraj and my last name is pazhamalai\n"
     ]
    }
   ],
   "source": [
    "print(f\"my first name is {x} and my last name is {y}\")"
   ]
  },
  {
   "cell_type": "code",
   "execution_count": 73,
   "id": "1b1b9c99",
   "metadata": {},
   "outputs": [
    {
     "name": "stdout",
     "output_type": "stream",
     "text": [
      "my first name is raj and my last name is malai\n"
     ]
    }
   ],
   "source": [
    "print(\"my first name is {x} and my last name is {y}\".format(x=\"raj\",y=\"malai\"))"
   ]
  },
  {
   "cell_type": "code",
   "execution_count": 1,
   "id": "74e721ab",
   "metadata": {},
   "outputs": [
    {
     "name": "stdout",
     "output_type": "stream",
     "text": [
      "my first name is raj and my last name is malai\n"
     ]
    }
   ],
   "source": [
    "print(\"my first name is {1} and my last name is {0}\".format(\"malai\",\"raj\"))"
   ]
  },
  {
   "cell_type": "code",
   "execution_count": 2,
   "id": "3143a86f",
   "metadata": {},
   "outputs": [
    {
     "data": {
      "text/plain": [
       "'C:\\\\Users\\\\yuvar\\\\Udemy Python Course'"
      ]
     },
     "execution_count": 2,
     "metadata": {},
     "output_type": "execute_result"
    }
   ],
   "source": [
    "pwd"
   ]
  }
 ],
 "metadata": {
  "kernelspec": {
   "display_name": "Python 3 (ipykernel)",
   "language": "python",
   "name": "python3"
  },
  "language_info": {
   "codemirror_mode": {
    "name": "ipython",
    "version": 3
   },
   "file_extension": ".py",
   "mimetype": "text/x-python",
   "name": "python",
   "nbconvert_exporter": "python",
   "pygments_lexer": "ipython3",
   "version": "3.10.9"
  }
 },
 "nbformat": 4,
 "nbformat_minor": 5
}
